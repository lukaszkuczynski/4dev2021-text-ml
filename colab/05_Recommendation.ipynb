{
  "nbformat": 4,
  "nbformat_minor": 0,
  "metadata": {
    "colab": {
      "name": "05. Recommendation",
      "provenance": [],
      "collapsed_sections": []
    },
    "kernelspec": {
      "name": "python3",
      "display_name": "Python 3"
    },
    "language_info": {
      "name": "python"
    }
  },
  "cells": [
    {
      "cell_type": "code",
      "metadata": {
        "id": "x2mqUx3_koUJ",
        "colab": {
          "base_uri": "https://localhost:8080/"
        },
        "outputId": "d42685bc-bc96-4cdb-d76a-ff468625bd5c"
      },
      "source": [
        "import nltk\n",
        "nltk.download('brown')\n",
        "from nltk.corpus import brown\n",
        "import pandas as pd\n",
        "%load_ext google.colab.data_table"
      ],
      "execution_count": null,
      "outputs": [
        {
          "output_type": "stream",
          "text": [
            "[nltk_data] Downloading package brown to /root/nltk_data...\n",
            "[nltk_data]   Unzipping corpora/brown.zip.\n"
          ],
          "name": "stdout"
        }
      ]
    },
    {
      "cell_type": "code",
      "metadata": {
        "id": "GlKvgpUxmGnW",
        "colab": {
          "base_uri": "https://localhost:8080/",
          "height": 35
        },
        "outputId": "5eba93e1-66cc-456b-f87c-205394e28895"
      },
      "source": [
        "' :: '.join(brown.categories())"
      ],
      "execution_count": null,
      "outputs": [
        {
          "output_type": "execute_result",
          "data": {
            "application/vnd.google.colaboratory.intrinsic+json": {
              "type": "string"
            },
            "text/plain": [
              "'adventure :: belles_lettres :: editorial :: fiction :: government :: hobbies :: humor :: learned :: lore :: mystery :: news :: religion :: reviews :: romance :: science_fiction'"
            ]
          },
          "metadata": {
            "tags": []
          },
          "execution_count": 2
        }
      ]
    },
    {
      "cell_type": "code",
      "metadata": {
        "id": "0C0ukM2HmJdt",
        "colab": {
          "base_uri": "https://localhost:8080/",
          "height": 208
        },
        "outputId": "2ea4b261-71a8-42be-fe9a-1ec2152521ab"
      },
      "source": [
        "first_category = 'government'\n",
        "second_category = 'romance'\n",
        "\n",
        "first_corpus = [' '.join(words) for words in brown.sents(categories=[first_category])]\n",
        "second_corpus = [' '.join(words) for words in brown.sents(categories=[second_category])]\n",
        "df1 = pd.DataFrame()\n",
        "df1['text'] = first_corpus\n",
        "df1['category'] = first_category\n",
        "df2 = pd.DataFrame()\n",
        "df2['text'] = second_corpus\n",
        "df2['category'] = second_category\n",
        "df = pd.concat([df1, df2], ignore_index=True)\n",
        "df.head()"
      ],
      "execution_count": null,
      "outputs": [
        {
          "output_type": "execute_result",
          "data": {
            "application/vnd.google.colaboratory.module+javascript": "\n      import \"https://ssl.gstatic.com/colaboratory/data_table/a6224c040fa35dcf/data_table.js\";\n\n      window.createDataTable({\n        data: [[{\n            'v': 0,\n            'f': \"0\",\n        },\n\"The Office of Business Economics ( OBE ) of the U.S. Department of Commerce provides basic measures of the national economy and current analysis of short-run changes in the economic situation and business outlook .\",\n\"government\"],\n [{\n            'v': 1,\n            'f': \"1\",\n        },\n\"It develops and analyzes the national income , balance of international payments , and many other business indicators .\",\n\"government\"],\n [{\n            'v': 2,\n            'f': \"2\",\n        },\n\"Such measures are essential to its job of presenting business and Government with the facts required to meet the objective of expanding business and improving the operation of the economy .\",\n\"government\"],\n [{\n            'v': 3,\n            'f': \"3\",\n        },\n\"Contact\",\n\"government\"],\n [{\n            'v': 4,\n            'f': \"4\",\n        },\n\"For further information contact Director , Office of Business Economics , U.S. Department of Commerce , Washington 25 , D.C. .\",\n\"government\"]],\n        columns: [[\"number\", \"index\"], [\"string\", \"text\"], [\"string\", \"category\"]],\n        columnOptions: [{\"width\": \"1px\", \"className\": \"index_column\"}],\n        rowsPerPage: 25,\n        helpUrl: \"https://colab.research.google.com/notebooks/data_table.ipynb\",\n        suppressOutputScrolling: true,\n        minimumWidth: undefined,\n      });\n    ",
            "text/html": [
              "<div>\n",
              "<style scoped>\n",
              "    .dataframe tbody tr th:only-of-type {\n",
              "        vertical-align: middle;\n",
              "    }\n",
              "\n",
              "    .dataframe tbody tr th {\n",
              "        vertical-align: top;\n",
              "    }\n",
              "\n",
              "    .dataframe thead th {\n",
              "        text-align: right;\n",
              "    }\n",
              "</style>\n",
              "<table border=\"1\" class=\"dataframe\">\n",
              "  <thead>\n",
              "    <tr style=\"text-align: right;\">\n",
              "      <th></th>\n",
              "      <th>text</th>\n",
              "      <th>category</th>\n",
              "    </tr>\n",
              "  </thead>\n",
              "  <tbody>\n",
              "    <tr>\n",
              "      <th>0</th>\n",
              "      <td>The Office of Business Economics ( OBE ) of th...</td>\n",
              "      <td>government</td>\n",
              "    </tr>\n",
              "    <tr>\n",
              "      <th>1</th>\n",
              "      <td>It develops and analyzes the national income ,...</td>\n",
              "      <td>government</td>\n",
              "    </tr>\n",
              "    <tr>\n",
              "      <th>2</th>\n",
              "      <td>Such measures are essential to its job of pres...</td>\n",
              "      <td>government</td>\n",
              "    </tr>\n",
              "    <tr>\n",
              "      <th>3</th>\n",
              "      <td>Contact</td>\n",
              "      <td>government</td>\n",
              "    </tr>\n",
              "    <tr>\n",
              "      <th>4</th>\n",
              "      <td>For further information contact Director , Off...</td>\n",
              "      <td>government</td>\n",
              "    </tr>\n",
              "  </tbody>\n",
              "</table>\n",
              "</div>"
            ],
            "text/plain": [
              "                                                text    category\n",
              "0  The Office of Business Economics ( OBE ) of th...  government\n",
              "1  It develops and analyzes the national income ,...  government\n",
              "2  Such measures are essential to its job of pres...  government\n",
              "3                                            Contact  government\n",
              "4  For further information contact Director , Off...  government"
            ]
          },
          "metadata": {
            "tags": []
          },
          "execution_count": 3
        }
      ]
    },
    {
      "cell_type": "code",
      "metadata": {
        "id": "jQEJpkANmezA",
        "colab": {
          "base_uri": "https://localhost:8080/",
          "height": 35
        },
        "outputId": "a7c4e3b3-89bc-4086-e765-b260fda82d85"
      },
      "source": [
        "whole_corpus = df['text']\n",
        "y = df['category']\n",
        "whole_corpus[0]"
      ],
      "execution_count": null,
      "outputs": [
        {
          "output_type": "execute_result",
          "data": {
            "application/vnd.google.colaboratory.intrinsic+json": {
              "type": "string"
            },
            "text/plain": [
              "'The Office of Business Economics ( OBE ) of the U.S. Department of Commerce provides basic measures of the national economy and current analysis of short-run changes in the economic situation and business outlook .'"
            ]
          },
          "metadata": {
            "tags": []
          },
          "execution_count": 4
        }
      ]
    },
    {
      "cell_type": "code",
      "metadata": {
        "id": "moaCjoGrmbXo",
        "colab": {
          "base_uri": "https://localhost:8080/"
        },
        "outputId": "ab1fc1c5-b77f-4bd6-9b84-eb0957f943f7"
      },
      "source": [
        "from sklearn.feature_extraction.text import TfidfVectorizer\n",
        "\n",
        "vectorizer = TfidfVectorizer(stop_words='english')\n",
        "X = vectorizer.fit_transform(whole_corpus)\n",
        "X[0]"
      ],
      "execution_count": null,
      "outputs": [
        {
          "output_type": "execute_result",
          "data": {
            "text/plain": [
              "<1x11510 sparse matrix of type '<class 'numpy.float64'>'\n",
              "\twith 19 stored elements in Compressed Sparse Row format>"
            ]
          },
          "metadata": {
            "tags": []
          },
          "execution_count": 5
        }
      ]
    },
    {
      "cell_type": "markdown",
      "metadata": {
        "id": "FEoqYQUxnRPx"
      },
      "source": [
        "# Recommendation process"
      ]
    },
    {
      "cell_type": "code",
      "metadata": {
        "id": "bwbxYNNGo2ji"
      },
      "source": [
        "from sklearn.metrics.pairwise import cosine_similarity"
      ],
      "execution_count": null,
      "outputs": []
    },
    {
      "cell_type": "code",
      "metadata": {
        "id": "H8qja8H6o7Qc"
      },
      "source": [
        "def get_similar_docs(index_to_check, to_return):\n",
        "  vector = X[index_to_check]\n",
        "  similarities = []\n",
        "  docs_no = X.shape[0]\n",
        "  for n in range(docs_no):\n",
        "    similarity = cosine_similarity(X[n], vector)\n",
        "    similarities.append(similarity[0][0])\n",
        "  df_copy = df.copy()\n",
        "  df_copy['similarity'] = similarities\n",
        "  df_copy = df_copy.sort_values(by='similarity', ascending=False)\n",
        "  df_copy = df_copy.drop(index_to_check)\n",
        "  return df_copy.head(to_return)"
      ],
      "execution_count": null,
      "outputs": []
    },
    {
      "cell_type": "code",
      "metadata": {
        "id": "M1oa-6rqnvPD",
        "colab": {
          "base_uri": "https://localhost:8080/",
          "height": 35
        },
        "outputId": "3f15940e-70d9-4047-c6a9-56ada2103457"
      },
      "source": [
        "df.iloc[2432].text"
      ],
      "execution_count": null,
      "outputs": [
        {
          "output_type": "execute_result",
          "data": {
            "application/vnd.google.colaboratory.intrinsic+json": {
              "type": "string"
            },
            "text/plain": [
              "'If you hold property for the production of rents or royalties you subtract , in computing Adjusted Gross Income , ordinary and necessary expenses and certain other deductions attributable to the property .'"
            ]
          },
          "metadata": {
            "tags": []
          },
          "execution_count": 8
        }
      ]
    },
    {
      "cell_type": "code",
      "metadata": {
        "id": "Uz-Ps5EVrjcy"
      },
      "source": [
        "df_similar = get_similar_docs(2432, 5)"
      ],
      "execution_count": null,
      "outputs": []
    },
    {
      "cell_type": "code",
      "metadata": {
        "id": "_ztBAuN2t2HY",
        "colab": {
          "base_uri": "https://localhost:8080/",
          "height": 208
        },
        "outputId": "30751839-25cc-40a4-b914-cd787e77858e"
      },
      "source": [
        "df_similar"
      ],
      "execution_count": null,
      "outputs": [
        {
          "output_type": "execute_result",
          "data": {
            "application/vnd.google.colaboratory.module+javascript": "\n      import \"https://ssl.gstatic.com/colaboratory/data_table/a6224c040fa35dcf/data_table.js\";\n\n      window.createDataTable({\n        data: [[{\n            'v': 2456,\n            'f': \"2456\",\n        },\n\"Certain other deductions are not allowed in determining Adjusted Gross Income .\",\n\"government\",\n{\n            'v': 0.40517391395244273,\n            'f': \"0.40517391395244273\",\n        }],\n [{\n            'v': 2431,\n            'f': \"2431\",\n        },\n\"Rents or royalties .\",\n\"government\",\n{\n            'v': 0.39829830958166457,\n            'f': \"0.39829830958166457\",\n        }],\n [{\n            'v': 2425,\n            'f': \"2425\",\n        },\n\"Some deductions are subtracted from Gross Income to determine Adjusted Gross Income .\",\n\"government\",\n{\n            'v': 0.3767622416376234,\n            'f': \"0.3767622416376234\",\n        }],\n [{\n            'v': 2421,\n            'f': \"2421\",\n        },\n\"Adjusted gross income\",\n\"government\",\n{\n            'v': 0.3754778593599771,\n            'f': \"0.3754778593599771\",\n        }],\n [{\n            'v': 2430,\n            'f': \"2430\",\n        },\n\"Businessmen deduct all ordinary and necessary expenses attributable to a trade or business .\",\n\"government\",\n{\n            'v': 0.34292985787070934,\n            'f': \"0.34292985787070934\",\n        }]],\n        columns: [[\"number\", \"index\"], [\"string\", \"text\"], [\"string\", \"category\"], [\"number\", \"similarity\"]],\n        columnOptions: [{\"width\": \"1px\", \"className\": \"index_column\"}],\n        rowsPerPage: 25,\n        helpUrl: \"https://colab.research.google.com/notebooks/data_table.ipynb\",\n        suppressOutputScrolling: true,\n        minimumWidth: undefined,\n      });\n    ",
            "text/html": [
              "<div>\n",
              "<style scoped>\n",
              "    .dataframe tbody tr th:only-of-type {\n",
              "        vertical-align: middle;\n",
              "    }\n",
              "\n",
              "    .dataframe tbody tr th {\n",
              "        vertical-align: top;\n",
              "    }\n",
              "\n",
              "    .dataframe thead th {\n",
              "        text-align: right;\n",
              "    }\n",
              "</style>\n",
              "<table border=\"1\" class=\"dataframe\">\n",
              "  <thead>\n",
              "    <tr style=\"text-align: right;\">\n",
              "      <th></th>\n",
              "      <th>text</th>\n",
              "      <th>category</th>\n",
              "      <th>similarity</th>\n",
              "    </tr>\n",
              "  </thead>\n",
              "  <tbody>\n",
              "    <tr>\n",
              "      <th>2456</th>\n",
              "      <td>Certain other deductions are not allowed in de...</td>\n",
              "      <td>government</td>\n",
              "      <td>0.405174</td>\n",
              "    </tr>\n",
              "    <tr>\n",
              "      <th>2431</th>\n",
              "      <td>Rents or royalties .</td>\n",
              "      <td>government</td>\n",
              "      <td>0.398298</td>\n",
              "    </tr>\n",
              "    <tr>\n",
              "      <th>2425</th>\n",
              "      <td>Some deductions are subtracted from Gross Inco...</td>\n",
              "      <td>government</td>\n",
              "      <td>0.376762</td>\n",
              "    </tr>\n",
              "    <tr>\n",
              "      <th>2421</th>\n",
              "      <td>Adjusted gross income</td>\n",
              "      <td>government</td>\n",
              "      <td>0.375478</td>\n",
              "    </tr>\n",
              "    <tr>\n",
              "      <th>2430</th>\n",
              "      <td>Businessmen deduct all ordinary and necessary ...</td>\n",
              "      <td>government</td>\n",
              "      <td>0.342930</td>\n",
              "    </tr>\n",
              "  </tbody>\n",
              "</table>\n",
              "</div>"
            ],
            "text/plain": [
              "                                                   text    category  similarity\n",
              "2456  Certain other deductions are not allowed in de...  government    0.405174\n",
              "2431                               Rents or royalties .  government    0.398298\n",
              "2425  Some deductions are subtracted from Gross Inco...  government    0.376762\n",
              "2421                              Adjusted gross income  government    0.375478\n",
              "2430  Businessmen deduct all ordinary and necessary ...  government    0.342930"
            ]
          },
          "metadata": {
            "tags": []
          },
          "execution_count": 10
        }
      ]
    }
  ]
}