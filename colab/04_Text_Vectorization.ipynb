{
  "nbformat": 4,
  "nbformat_minor": 0,
  "metadata": {
    "colab": {
      "name": "04. Text Vectorization",
      "provenance": [],
      "collapsed_sections": []
    },
    "kernelspec": {
      "display_name": "Python 3",
      "name": "python3"
    },
    "language_info": {
      "name": "python"
    }
  },
  "cells": [
    {
      "cell_type": "markdown",
      "metadata": {
        "id": "EJL4BeJIYui8"
      },
      "source": [
        "# Bag of Words"
      ]
    },
    {
      "cell_type": "code",
      "metadata": {
        "id": "KjrLZ6BfEA1D"
      },
      "source": [
        "first_category = 'government'\n",
        "second_category = 'romance'"
      ],
      "execution_count": null,
      "outputs": []
    },
    {
      "cell_type": "markdown",
      "metadata": {
        "id": "nJdmhb92Y6gB"
      },
      "source": [
        "## CountVectorizer"
      ]
    },
    {
      "cell_type": "markdown",
      "metadata": {
        "id": "vqP1Cdrn7osg"
      },
      "source": [
        "### Text preprocessing"
      ]
    },
    {
      "cell_type": "code",
      "metadata": {
        "colab": {
          "base_uri": "https://localhost:8080/"
        },
        "id": "jcisfwPJYxyG",
        "outputId": "181e43de-716f-4c19-ad5b-a6e4ad649c98"
      },
      "source": [
        "import nltk\n",
        "nltk.download('brown')\n",
        "nltk.download('stopwords')\n",
        "from nltk.corpus import brown\n",
        "from nltk.corpus import stopwords"
      ],
      "execution_count": null,
      "outputs": [
        {
          "output_type": "stream",
          "text": [
            "[nltk_data] Downloading package brown to /root/nltk_data...\n",
            "[nltk_data]   Unzipping corpora/brown.zip.\n",
            "[nltk_data] Downloading package stopwords to /root/nltk_data...\n",
            "[nltk_data]   Unzipping corpora/stopwords.zip.\n"
          ],
          "name": "stdout"
        }
      ]
    },
    {
      "cell_type": "code",
      "metadata": {
        "colab": {
          "base_uri": "https://localhost:8080/"
        },
        "id": "2I5UIuPVBlue",
        "outputId": "f17af7f9-4610-43d0-c21f-b75be6b23d0c"
      },
      "source": [
        "english_stopwords = stopwords.words('english')\n",
        "english_stopwords[:5]"
      ],
      "execution_count": null,
      "outputs": [
        {
          "output_type": "execute_result",
          "data": {
            "text/plain": [
              "['i', 'me', 'my', 'myself', 'we']"
            ]
          },
          "metadata": {
            "tags": []
          },
          "execution_count": 3
        }
      ]
    },
    {
      "cell_type": "code",
      "metadata": {
        "colab": {
          "base_uri": "https://localhost:8080/"
        },
        "id": "XyQ-q0xvElk8",
        "outputId": "2834c674-a6bf-43e5-d48d-c796382c1717"
      },
      "source": [
        "regex_to_match = r'^[a-zA-Z]+$'\n",
        "import re\n",
        "\n",
        "def prepare_tokens(tokens):\n",
        "  lowered = [token.lower() for token in tokens]\n",
        "  onlywords = [token for token in lowered if re.fullmatch(regex_to_match, token)] \n",
        "  no_stopwords = [token for token in onlywords if not token in english_stopwords] \n",
        "  return no_stopwords\n",
        "\n",
        "def prepare_corpus(tokenized_corpus):\n",
        "  results = []\n",
        "  for sentence in tokenized_corpus:\n",
        "    results.append(' '.join(prepare_tokens(sentence)))\n",
        "  return results\n",
        "\n",
        "first_corpus = prepare_corpus(brown.sents(categories=[first_category]))  \n",
        "first_corpus[:3]"
      ],
      "execution_count": null,
      "outputs": [
        {
          "output_type": "execute_result",
          "data": {
            "text/plain": [
              "['office business economics obe department commerce provides basic measures national economy current analysis changes economic situation business outlook',\n",
              " 'develops analyzes national income balance international payments many business indicators',\n",
              " 'measures essential job presenting business government facts required meet objective expanding business improving operation economy']"
            ]
          },
          "metadata": {
            "tags": []
          },
          "execution_count": 4
        }
      ]
    },
    {
      "cell_type": "code",
      "metadata": {
        "colab": {
          "base_uri": "https://localhost:8080/"
        },
        "id": "MWxR0IBlBS51",
        "outputId": "be8a5a3f-1262-418f-fa64-eb92c98d532c"
      },
      "source": [
        "second_corpus = prepare_corpus(brown.sents(categories=[second_category]))  \n",
        "len(second_corpus)"
      ],
      "execution_count": null,
      "outputs": [
        {
          "output_type": "execute_result",
          "data": {
            "text/plain": [
              "4431"
            ]
          },
          "metadata": {
            "tags": []
          },
          "execution_count": 5
        }
      ]
    },
    {
      "cell_type": "markdown",
      "metadata": {
        "id": "vGc03_KH_BKz"
      },
      "source": [
        "### Vectorize\n",
        "text is preprocessed, ready to apply vectorization on top of that"
      ]
    },
    {
      "cell_type": "code",
      "metadata": {
        "id": "HrJ49Ui_AhWt"
      },
      "source": [
        "import pandas as pd"
      ],
      "execution_count": null,
      "outputs": []
    },
    {
      "cell_type": "code",
      "metadata": {
        "colab": {
          "base_uri": "https://localhost:8080/",
          "height": 143
        },
        "id": "UvbLg9PnAneN",
        "outputId": "48d4d7ce-7d8d-4bd9-a741-0416026b8d04"
      },
      "source": [
        "df1 = pd.DataFrame()\n",
        "df1['text'] = first_corpus\n",
        "df1['category'] = first_category\n",
        "df2 = pd.DataFrame()\n",
        "df2['text'] = second_corpus\n",
        "df2['category'] = second_category\n",
        "df = pd.concat([df1, df2], ignore_index=True)\n",
        "df.head()\n",
        "df.groupby('category').count()"
      ],
      "execution_count": null,
      "outputs": [
        {
          "output_type": "execute_result",
          "data": {
            "text/html": [
              "<div>\n",
              "<style scoped>\n",
              "    .dataframe tbody tr th:only-of-type {\n",
              "        vertical-align: middle;\n",
              "    }\n",
              "\n",
              "    .dataframe tbody tr th {\n",
              "        vertical-align: top;\n",
              "    }\n",
              "\n",
              "    .dataframe thead th {\n",
              "        text-align: right;\n",
              "    }\n",
              "</style>\n",
              "<table border=\"1\" class=\"dataframe\">\n",
              "  <thead>\n",
              "    <tr style=\"text-align: right;\">\n",
              "      <th></th>\n",
              "      <th>text</th>\n",
              "    </tr>\n",
              "    <tr>\n",
              "      <th>category</th>\n",
              "      <th></th>\n",
              "    </tr>\n",
              "  </thead>\n",
              "  <tbody>\n",
              "    <tr>\n",
              "      <th>government</th>\n",
              "      <td>3032</td>\n",
              "    </tr>\n",
              "    <tr>\n",
              "      <th>romance</th>\n",
              "      <td>4431</td>\n",
              "    </tr>\n",
              "  </tbody>\n",
              "</table>\n",
              "</div>"
            ],
            "text/plain": [
              "            text\n",
              "category        \n",
              "government  3032\n",
              "romance     4431"
            ]
          },
          "metadata": {
            "tags": []
          },
          "execution_count": 7
        }
      ]
    },
    {
      "cell_type": "code",
      "metadata": {
        "id": "b4Qm_4V5Bkd2"
      },
      "source": [
        "from sklearn.feature_extraction.text import CountVectorizer"
      ],
      "execution_count": null,
      "outputs": []
    },
    {
      "cell_type": "code",
      "metadata": {
        "id": "7R8AnNnt_F1V"
      },
      "source": [
        "cv = CountVectorizer()"
      ],
      "execution_count": null,
      "outputs": []
    },
    {
      "cell_type": "code",
      "metadata": {
        "id": "JgV3vyroDDjB"
      },
      "source": [
        "whole_corpus = df['text']"
      ],
      "execution_count": null,
      "outputs": []
    },
    {
      "cell_type": "code",
      "metadata": {
        "colab": {
          "base_uri": "https://localhost:8080/",
          "height": 35
        },
        "id": "Uz81jJeJETeq",
        "outputId": "20bfaddd-277e-4af3-ee75-103ab407f75a"
      },
      "source": [
        "whole_corpus[0]"
      ],
      "execution_count": null,
      "outputs": [
        {
          "output_type": "execute_result",
          "data": {
            "application/vnd.google.colaboratory.intrinsic+json": {
              "type": "string"
            },
            "text/plain": [
              "'office business economics obe department commerce provides basic measures national economy current analysis changes economic situation business outlook'"
            ]
          },
          "metadata": {
            "tags": []
          },
          "execution_count": 11
        }
      ]
    },
    {
      "cell_type": "code",
      "metadata": {
        "colab": {
          "base_uri": "https://localhost:8080/"
        },
        "id": "AaaCvfst_c9y",
        "outputId": "b03af8f5-9d7a-41bc-9970-e831b649f443"
      },
      "source": [
        "cvfit = cv.fit(whole_corpus)\n",
        "X = cvfit.transform(whole_corpus)\n",
        "print(X[0])"
      ],
      "execution_count": null,
      "outputs": [
        {
          "output_type": "stream",
          "text": [
            "  (0, 381)\t1\n",
            "  (0, 842)\t1\n",
            "  (0, 1321)\t2\n",
            "  (0, 1555)\t1\n",
            "  (0, 1864)\t1\n",
            "  (0, 2402)\t1\n",
            "  (0, 2631)\t1\n",
            "  (0, 3138)\t1\n",
            "  (0, 3140)\t1\n",
            "  (0, 3143)\t1\n",
            "  (0, 6057)\t1\n",
            "  (0, 6443)\t1\n",
            "  (0, 6614)\t1\n",
            "  (0, 6675)\t1\n",
            "  (0, 6798)\t1\n",
            "  (0, 7645)\t1\n",
            "  (0, 8975)\t1\n"
          ],
          "name": "stdout"
        }
      ]
    },
    {
      "cell_type": "code",
      "metadata": {
        "colab": {
          "base_uri": "https://localhost:8080/"
        },
        "id": "FdWESCaRnZby",
        "outputId": "13892bf8-8592-4071-f388-003c29232977"
      },
      "source": [
        "X.shape"
      ],
      "execution_count": null,
      "outputs": [
        {
          "output_type": "execute_result",
          "data": {
            "text/plain": [
              "(7463, 11112)"
            ]
          },
          "metadata": {
            "tags": []
          },
          "execution_count": 13
        }
      ]
    },
    {
      "cell_type": "code",
      "metadata": {
        "colab": {
          "base_uri": "https://localhost:8080/"
        },
        "id": "EPx69qqSDjHJ",
        "outputId": "1aa4e6e7-17fd-47ca-f776-f8b2d3a00eef"
      },
      "source": [
        "cvfit.get_feature_names()[:5]"
      ],
      "execution_count": null,
      "outputs": [
        {
          "output_type": "execute_result",
          "data": {
            "text/plain": [
              "['aa', 'aback', 'abandon', 'abandoning', 'abernathy']"
            ]
          },
          "metadata": {
            "tags": []
          },
          "execution_count": 14
        }
      ]
    },
    {
      "cell_type": "code",
      "metadata": {
        "colab": {
          "base_uri": "https://localhost:8080/",
          "height": 35
        },
        "id": "UQkTVOrBEnB4",
        "outputId": "7f4d0986-29ff-4d5e-b1e9-5edff2ce2b63"
      },
      "source": [
        "cvfit.get_feature_names()[1321]"
      ],
      "execution_count": null,
      "outputs": [
        {
          "output_type": "execute_result",
          "data": {
            "application/vnd.google.colaboratory.intrinsic+json": {
              "type": "string"
            },
            "text/plain": [
              "'business'"
            ]
          },
          "metadata": {
            "tags": []
          },
          "execution_count": 15
        }
      ]
    },
    {
      "cell_type": "code",
      "metadata": {
        "colab": {
          "base_uri": "https://localhost:8080/",
          "height": 35
        },
        "id": "UaPdaMoJFhvR",
        "outputId": "84bfa08f-54d3-4199-e89f-ba4898417995"
      },
      "source": [
        "cvfit.get_feature_names()[6614]"
      ],
      "execution_count": null,
      "outputs": [
        {
          "output_type": "execute_result",
          "data": {
            "application/vnd.google.colaboratory.intrinsic+json": {
              "type": "string"
            },
            "text/plain": [
              "'obe'"
            ]
          },
          "metadata": {
            "tags": []
          },
          "execution_count": 16
        }
      ]
    },
    {
      "cell_type": "markdown",
      "metadata": {
        "id": "S0l98wDzY_ne"
      },
      "source": [
        "## TF-IDF"
      ]
    },
    {
      "cell_type": "code",
      "metadata": {
        "id": "SavDoHsfYqFD"
      },
      "source": [
        "from sklearn.feature_extraction.text import TfidfVectorizer"
      ],
      "execution_count": null,
      "outputs": []
    },
    {
      "cell_type": "code",
      "metadata": {
        "id": "Ke6LRlD_E0fZ"
      },
      "source": [
        "tfidfv = TfidfVectorizer()\n",
        "tfidfvfit = tfidfv.fit(whole_corpus)"
      ],
      "execution_count": null,
      "outputs": []
    },
    {
      "cell_type": "code",
      "metadata": {
        "colab": {
          "base_uri": "https://localhost:8080/"
        },
        "id": "L7Abo7IjE4rZ",
        "outputId": "97412a12-28c3-4b36-ce8d-5e3303286312"
      },
      "source": [
        "Xt = tfidfvfit.transform(whole_corpus)\n",
        "print(Xt[0])"
      ],
      "execution_count": null,
      "outputs": [
        {
          "output_type": "stream",
          "text": [
            "  (0, 8975)\t0.22632206862865534\n",
            "  (0, 7645)\t0.23740129161468576\n",
            "  (0, 6798)\t0.262496733865745\n",
            "  (0, 6675)\t0.20510493898107457\n",
            "  (0, 6614)\t0.3037472109213802\n",
            "  (0, 6443)\t0.18962884780354536\n",
            "  (0, 6057)\t0.24474887306072352\n",
            "  (0, 3143)\t0.23327996979525453\n",
            "  (0, 3140)\t0.27357595685177544\n",
            "  (0, 3138)\t0.21349792884379376\n",
            "  (0, 2631)\t0.183539799138351\n",
            "  (0, 2402)\t0.22332658636747968\n",
            "  (0, 1864)\t0.22332658636747968\n",
            "  (0, 1555)\t0.23740129161468576\n",
            "  (0, 1321)\t0.33841164023210485\n",
            "  (0, 842)\t0.2180468878336781\n",
            "  (0, 381)\t0.25809986567424625\n"
          ],
          "name": "stdout"
        }
      ]
    },
    {
      "cell_type": "code",
      "metadata": {
        "colab": {
          "base_uri": "https://localhost:8080/",
          "height": 35
        },
        "id": "82qiCsuCFVEg",
        "outputId": "e8507f83-9e05-45fa-d8be-b5571b1db80b"
      },
      "source": [
        "cvfit.get_feature_names()[6443]"
      ],
      "execution_count": null,
      "outputs": [
        {
          "output_type": "execute_result",
          "data": {
            "application/vnd.google.colaboratory.intrinsic+json": {
              "type": "string"
            },
            "text/plain": [
              "'national'"
            ]
          },
          "metadata": {
            "tags": []
          },
          "execution_count": 20
        }
      ]
    },
    {
      "cell_type": "markdown",
      "metadata": {
        "id": "uVRnnVPwoGGQ"
      },
      "source": [
        "# Embeddings"
      ]
    },
    {
      "cell_type": "code",
      "metadata": {
        "colab": {
          "background_save": true,
          "base_uri": "https://localhost:8080/"
        },
        "id": "JtSvKpEfrH4Z",
        "outputId": "0000d28c-3f5d-4dfa-f71a-a4616aedbf08"
      },
      "source": [
        "import gensim.downloader as api\n",
        "wv = api.load(\"glove-twitter-25\")"
      ],
      "execution_count": null,
      "outputs": [
        {
          "output_type": "stream",
          "text": [
            "[==================================================] 100.0% 104.8/104.8MB downloaded\n"
          ],
          "name": "stdout"
        }
      ]
    },
    {
      "cell_type": "code",
      "metadata": {
        "colab": {
          "background_save": true
        },
        "id": "iNYy4z8WrF00",
        "outputId": "52aa23ae-8e29-47b8-b261-f7dbe902c276"
      },
      "source": [
        "print(wv.most_similar(positive=['car'], topn=5))"
      ],
      "execution_count": null,
      "outputs": [
        {
          "output_type": "stream",
          "text": [
            "[('front', 0.936506986618042), ('on', 0.9070020318031311), ('table', 0.8939012885093689), ('truck', 0.8898833394050598), ('place', 0.8800071477890015)]\n"
          ],
          "name": "stdout"
        }
      ]
    },
    {
      "cell_type": "code",
      "metadata": {
        "colab": {
          "background_save": true
        },
        "id": "80HOdKVjs0Yo",
        "outputId": "2d922432-936d-458d-8e2c-802f13b60d75"
      },
      "source": [
        "print(wv.most_similar(positive=['news', 'information'], topn=5))"
      ],
      "execution_count": null,
      "outputs": [
        {
          "output_type": "stream",
          "text": [
            "[('business', 0.9177083373069763), ('report', 0.9114616513252258), ('uk', 0.9089304804801941), ('details', 0.9047592282295227), ('management', 0.9039708971977234)]\n"
          ],
          "name": "stdout"
        }
      ]
    },
    {
      "cell_type": "code",
      "metadata": {
        "colab": {
          "background_save": true
        },
        "id": "vP7MYqlDs5Ld",
        "outputId": "dd3c267d-08da-4b98-9ca7-084a836ccbb3"
      },
      "source": [
        "wv.most_similar(positive=['woman', 'king'], negative=['man'])"
      ],
      "execution_count": null,
      "outputs": [
        {
          "output_type": "execute_result",
          "data": {
            "text/plain": [
              "[('meets', 0.8841923475265503),\n",
              " ('prince', 0.832163393497467),\n",
              " ('queen', 0.8257461190223694),\n",
              " ('’s', 0.8174097537994385),\n",
              " ('crow', 0.8134994506835938),\n",
              " ('hunter', 0.8131038546562195),\n",
              " ('father', 0.811583399772644),\n",
              " ('soldier', 0.8111359477043152),\n",
              " ('mercy', 0.8082392811775208),\n",
              " ('hero', 0.8082262873649597)]"
            ]
          },
          "metadata": {
            "tags": []
          },
          "execution_count": 0
        }
      ]
    },
    {
      "cell_type": "code",
      "metadata": {
        "colab": {
          "background_save": true
        },
        "id": "WzXGiTWrtz7I",
        "outputId": "66ce293e-8d4a-4155-e69a-05f5f6961603"
      },
      "source": [
        "wv.most_similar(positive=['computer', 'programmer'], negative=['expert'])"
      ],
      "execution_count": null,
      "outputs": [
        {
          "output_type": "execute_result",
          "data": {
            "text/plain": [
              "[('server', 0.8650869131088257),\n",
              " ('scanner', 0.8362976312637329),\n",
              " ('wireless', 0.8300669193267822),\n",
              " ('computers', 0.8194390535354614),\n",
              " ('hotspot', 0.812617301940918),\n",
              " ('desktop', 0.810374915599823),\n",
              " ('engine', 0.8094812631607056),\n",
              " ('charging', 0.8057352900505066),\n",
              " ('sql', 0.8054704666137695),\n",
              " ('gps', 0.8033141493797302)]"
            ]
          },
          "metadata": {
            "tags": []
          },
          "execution_count": 0
        }
      ]
    }
  ]
}