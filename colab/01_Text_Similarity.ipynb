{
  "nbformat": 4,
  "nbformat_minor": 0,
  "metadata": {
    "colab": {
      "name": "01. Text Similarity",
      "provenance": [],
      "collapsed_sections": [
        "-9dVkoH1NWGx",
        "OwkH4c_YOHJk"
      ]
    },
    "kernelspec": {
      "name": "python3",
      "display_name": "Python 3"
    },
    "language_info": {
      "name": "python"
    }
  },
  "cells": [
    {
      "cell_type": "markdown",
      "metadata": {
        "id": "faFqGe9Z4cdH"
      },
      "source": [
        "# Cosine similarity"
      ]
    },
    {
      "cell_type": "code",
      "metadata": {
        "id": "o7-0bIGB5gh8"
      },
      "source": [
        "import pandas as pd\n",
        "import nltk\n",
        "import seaborn as sns\n",
        "import numpy as np\n",
        "import matplotlib.pyplot as plt"
      ],
      "execution_count": null,
      "outputs": []
    },
    {
      "cell_type": "code",
      "metadata": {
        "colab": {
          "base_uri": "https://localhost:8080/"
        },
        "id": "jHoGXC2lG3tb",
        "outputId": "f313b73b-7ce3-48e8-f6e5-c9aed9e7895b"
      },
      "source": [
        "nltk.download('brown')"
      ],
      "execution_count": null,
      "outputs": [
        {
          "output_type": "stream",
          "text": [
            "[nltk_data] Downloading package brown to /root/nltk_data...\n",
            "[nltk_data]   Package brown is already up-to-date!\n"
          ],
          "name": "stdout"
        },
        {
          "output_type": "execute_result",
          "data": {
            "text/plain": [
              "True"
            ]
          },
          "metadata": {
            "tags": []
          },
          "execution_count": 62
        }
      ]
    },
    {
      "cell_type": "code",
      "metadata": {
        "colab": {
          "base_uri": "https://localhost:8080/"
        },
        "id": "VpS-nH6sHWIT",
        "outputId": "41524b01-982c-4a36-c137-d8f6f844264e"
      },
      "source": [
        "from nltk.corpus import brown\n",
        "brown.categories()"
      ],
      "execution_count": null,
      "outputs": [
        {
          "output_type": "execute_result",
          "data": {
            "text/plain": [
              "['adventure',\n",
              " 'belles_lettres',\n",
              " 'editorial',\n",
              " 'fiction',\n",
              " 'government',\n",
              " 'hobbies',\n",
              " 'humor',\n",
              " 'learned',\n",
              " 'lore',\n",
              " 'mystery',\n",
              " 'news',\n",
              " 'religion',\n",
              " 'reviews',\n",
              " 'romance',\n",
              " 'science_fiction']"
            ]
          },
          "metadata": {
            "tags": []
          },
          "execution_count": 63
        }
      ]
    },
    {
      "cell_type": "code",
      "metadata": {
        "id": "cvoxibfyKnkN"
      },
      "source": [
        "first_corpus = brown.sents(categories=['romance'])[:6]\n",
        "other_corpus = brown.sents(categories=['government'])[:6]"
      ],
      "execution_count": null,
      "outputs": []
    },
    {
      "cell_type": "code",
      "metadata": {
        "colab": {
          "base_uri": "https://localhost:8080/",
          "height": 35
        },
        "id": "OE_izcbb2Pc_",
        "outputId": "327c2e3a-7c9d-4eb4-af3e-0ad9bd0f643b"
      },
      "source": [
        "' '.join(first_corpus[0])"
      ],
      "execution_count": null,
      "outputs": [
        {
          "output_type": "execute_result",
          "data": {
            "application/vnd.google.colaboratory.intrinsic+json": {
              "type": "string"
            },
            "text/plain": [
              "'They neither liked nor disliked the Old Man .'"
            ]
          },
          "metadata": {
            "tags": []
          },
          "execution_count": 65
        }
      ]
    },
    {
      "cell_type": "code",
      "metadata": {
        "colab": {
          "base_uri": "https://localhost:8080/",
          "height": 35
        },
        "id": "MZZflc0dPl9J",
        "outputId": "b95e5d58-2028-49ef-fc2b-13ff16f7cc1a"
      },
      "source": [
        "' '.join(other_corpus[2])"
      ],
      "execution_count": null,
      "outputs": [
        {
          "output_type": "execute_result",
          "data": {
            "application/vnd.google.colaboratory.intrinsic+json": {
              "type": "string"
            },
            "text/plain": [
              "'Such measures are essential to its job of presenting business and Government with the facts required to meet the objective of expanding business and improving the operation of the economy .'"
            ]
          },
          "metadata": {
            "tags": []
          },
          "execution_count": 66
        }
      ]
    },
    {
      "cell_type": "markdown",
      "metadata": {
        "id": "-9dVkoH1NWGx"
      },
      "source": [
        "## Filtering and cleaning"
      ]
    },
    {
      "cell_type": "code",
      "metadata": {
        "colab": {
          "base_uri": "https://localhost:8080/"
        },
        "id": "Vj0QIulh1uLz",
        "outputId": "dd88ac4e-d0bd-43b3-d009-650feaf6b86a"
      },
      "source": [
        "from nltk.corpus import stopwords\n",
        "nltk.download('stopwords')\n",
        "english_stopwords = stopwords.words('english')\n",
        "print(english_stopwords[:10])"
      ],
      "execution_count": null,
      "outputs": [
        {
          "output_type": "stream",
          "text": [
            "[nltk_data] Downloading package stopwords to /root/nltk_data...\n",
            "[nltk_data]   Package stopwords is already up-to-date!\n",
            "['i', 'me', 'my', 'myself', 'we', 'our', 'ours', 'ourselves', 'you', \"you're\"]\n"
          ],
          "name": "stdout"
        }
      ]
    },
    {
      "cell_type": "code",
      "metadata": {
        "id": "UwCb4UESJ_C4"
      },
      "source": [
        "regex_to_match = r'^[a-zA-Z]+$'\n",
        "import re\n",
        "\n",
        "\n",
        "def prepare_tokens(tokens):\n",
        "  lowered = [token.lower() for token in tokens]\n",
        "  onlywords = [token for token in lowered if re.fullmatch(regex_to_match, token)] \n",
        "  no_stopwords = [token for token in onlywords if not token in english_stopwords] \n",
        "  return no_stopwords\n",
        "\n",
        "def prepare_corpus(tokenized_corpus):\n",
        "  results = []\n",
        "  for sentence in tokenized_corpus:\n",
        "    results.append(prepare_tokens(sentence))\n",
        "  return results\n",
        "\n",
        "corpus_cleaned = prepare_corpus(first_corpus)"
      ],
      "execution_count": null,
      "outputs": []
    },
    {
      "cell_type": "code",
      "metadata": {
        "id": "qYUuGLgtOGP3",
        "colab": {
          "base_uri": "https://localhost:8080/"
        },
        "outputId": "a65413bf-8aba-44c4-a031-078df2163fb1"
      },
      "source": [
        "corpus_cleaned[0][:5]"
      ],
      "execution_count": null,
      "outputs": [
        {
          "output_type": "execute_result",
          "data": {
            "text/plain": [
              "['neither', 'liked', 'disliked', 'old', 'man']"
            ]
          },
          "metadata": {
            "tags": []
          },
          "execution_count": 69
        }
      ]
    },
    {
      "cell_type": "markdown",
      "metadata": {
        "id": "OwkH4c_YOHJk"
      },
      "source": [
        "# Vectorize"
      ]
    },
    {
      "cell_type": "code",
      "metadata": {
        "id": "wEwo_4YZHYhh"
      },
      "source": [
        "from sklearn.feature_extraction.text import CountVectorizer"
      ],
      "execution_count": null,
      "outputs": []
    },
    {
      "cell_type": "code",
      "metadata": {
        "colab": {
          "base_uri": "https://localhost:8080/"
        },
        "id": "_TajQYts1J0E",
        "outputId": "4875b680-6f71-43e3-ed92-1c996ae459e3"
      },
      "source": [
        "sentences_again = [\" \".join(tokens) for tokens in corpus_cleaned]\n",
        "sentences_again[0]"
      ],
      "execution_count": null,
      "outputs": [
        {
          "output_type": "execute_result",
          "data": {
            "application/vnd.google.colaboratory.intrinsic+json": {
              "type": "string"
            },
            "text/plain": [
              "'neither liked disliked old man'"
            ]
          },
          "metadata": {
            "tags": []
          },
          "execution_count": 71
        }
      ]
    },
    {
      "cell_type": "code",
      "metadata": {
        "id": "B04dQ9dROJrt"
      },
      "source": [
        "vectorizer = CountVectorizer()\n",
        "vectorizer_fit = vectorizer.fit(sentences_again)"
      ],
      "execution_count": null,
      "outputs": []
    },
    {
      "cell_type": "code",
      "metadata": {
        "colab": {
          "base_uri": "https://localhost:8080/"
        },
        "id": "FU1aO8AO1Pz3",
        "outputId": "602d2eb7-2d73-420b-aa07-3f5bfb029a74"
      },
      "source": [
        "vectorizer_fit.get_feature_names()[:5]"
      ],
      "execution_count": null,
      "outputs": [
        {
          "output_type": "execute_result",
          "data": {
            "text/plain": [
              "['aluminum', 'amber', 'bats', 'bees', 'bell']"
            ]
          },
          "metadata": {
            "tags": []
          },
          "execution_count": 73
        }
      ]
    },
    {
      "cell_type": "code",
      "metadata": {
        "colab": {
          "base_uri": "https://localhost:8080/"
        },
        "id": "yn3WdWHU1YBN",
        "outputId": "df4db6cc-2f80-4510-9e93-b47eec0425e2"
      },
      "source": [
        "X = vectorizer_fit.transform(sentences_again)\n",
        "X.toarray()"
      ],
      "execution_count": null,
      "outputs": [
        {
          "output_type": "execute_result",
          "data": {
            "text/plain": [
              "array([[0, 0, 0, 0, 0, 0, 0, 0, 0, 0, 0, 0, 0, 0, 0, 1, 0, 0, 0, 0, 0, 0,\n",
              "        1, 1, 0, 0, 0, 1, 0, 0, 0, 1, 0, 0, 0, 0, 0, 0, 0, 0, 0, 0, 0, 0,\n",
              "        0, 0, 0, 0, 0, 0, 0, 0, 0, 0, 0, 0],\n",
              "       [0, 0, 0, 0, 1, 0, 0, 0, 1, 1, 1, 0, 0, 1, 1, 0, 0, 0, 0, 1, 0, 0,\n",
              "        0, 0, 1, 0, 1, 0, 1, 0, 1, 0, 0, 1, 1, 0, 0, 0, 1, 0, 0, 0, 0, 1,\n",
              "        0, 0, 0, 0, 1, 1, 0, 0, 0, 0, 0, 0],\n",
              "       [0, 0, 0, 0, 0, 0, 0, 0, 0, 0, 0, 0, 0, 0, 0, 0, 0, 0, 0, 0, 0, 0,\n",
              "        0, 1, 0, 0, 0, 0, 0, 0, 0, 1, 0, 0, 0, 0, 0, 0, 0, 0, 0, 0, 0, 0,\n",
              "        0, 0, 0, 0, 0, 0, 0, 1, 0, 0, 0, 0],\n",
              "       [0, 0, 0, 1, 0, 0, 0, 0, 0, 0, 0, 1, 0, 0, 0, 0, 0, 1, 1, 0, 1, 0,\n",
              "        0, 0, 0, 2, 0, 0, 0, 0, 0, 0, 0, 0, 0, 0, 0, 1, 0, 0, 1, 0, 0, 0,\n",
              "        0, 0, 0, 0, 0, 0, 0, 0, 0, 2, 0, 1],\n",
              "       [1, 0, 0, 0, 0, 0, 0, 0, 0, 0, 0, 0, 1, 0, 0, 0, 0, 0, 0, 0, 0, 0,\n",
              "        0, 0, 0, 0, 0, 0, 0, 0, 0, 0, 1, 0, 0, 1, 1, 0, 0, 2, 0, 1, 0, 0,\n",
              "        0, 1, 1, 1, 0, 0, 1, 0, 0, 0, 1, 0],\n",
              "       [0, 1, 1, 0, 0, 1, 1, 1, 0, 0, 0, 0, 0, 0, 0, 0, 1, 0, 0, 0, 0, 1,\n",
              "        0, 0, 0, 0, 0, 0, 0, 1, 0, 0, 0, 0, 0, 0, 0, 0, 0, 0, 1, 0, 1, 0,\n",
              "        1, 0, 0, 0, 0, 0, 0, 0, 1, 0, 0, 0]])"
            ]
          },
          "metadata": {
            "tags": []
          },
          "execution_count": 74
        }
      ]
    },
    {
      "cell_type": "code",
      "metadata": {
        "colab": {
          "base_uri": "https://localhost:8080/"
        },
        "id": "tHuhExhW6v1P",
        "outputId": "6dc05161-1281-42e5-ce99-fc4f3b473a5f"
      },
      "source": [
        "X.shape"
      ],
      "execution_count": null,
      "outputs": [
        {
          "output_type": "execute_result",
          "data": {
            "text/plain": [
              "(6, 56)"
            ]
          },
          "metadata": {
            "tags": []
          },
          "execution_count": 75
        }
      ]
    },
    {
      "cell_type": "code",
      "metadata": {
        "id": "0HMLXhjL4eID"
      },
      "source": [
        "def vectorize_corpus(corpus):\n",
        "  corpus_cleaned = prepare_corpus(corpus)\n",
        "  sentences_again = [\" \".join(tokens) for tokens in corpus_cleaned]\n",
        "  X = vectorizer.fit_transform(sentences_again)\n",
        "  return X"
      ],
      "execution_count": null,
      "outputs": []
    },
    {
      "cell_type": "markdown",
      "metadata": {
        "id": "a9lHlq9k5KdV"
      },
      "source": [
        "# Compare using Cosine similarity"
      ]
    },
    {
      "cell_type": "code",
      "metadata": {
        "colab": {
          "base_uri": "https://localhost:8080/"
        },
        "id": "iskPgzIS5khA",
        "outputId": "ffb34846-0e95-4cbd-cafe-40054b1fac0c"
      },
      "source": [
        "complete_corpus = first_corpus + other_corpus\n",
        "len(complete_corpus)"
      ],
      "execution_count": null,
      "outputs": [
        {
          "output_type": "execute_result",
          "data": {
            "text/plain": [
              "12"
            ]
          },
          "metadata": {
            "tags": []
          },
          "execution_count": 77
        }
      ]
    },
    {
      "cell_type": "code",
      "metadata": {
        "colab": {
          "base_uri": "https://localhost:8080/"
        },
        "id": "vTt5L0_v6jBA",
        "outputId": "da59b33b-8727-49d7-f363-2e7e3083f238"
      },
      "source": [
        "X = vectorize_corpus(complete_corpus)\n",
        "X.shape"
      ],
      "execution_count": null,
      "outputs": [
        {
          "output_type": "execute_result",
          "data": {
            "text/plain": [
              "(12, 98)"
            ]
          },
          "metadata": {
            "tags": []
          },
          "execution_count": 78
        }
      ]
    },
    {
      "cell_type": "markdown",
      "metadata": {
        "id": "QSPKFYed8zco"
      },
      "source": [
        "### Using sample on 2 dimensions"
      ]
    },
    {
      "cell_type": "code",
      "metadata": {
        "id": "4l2yZ39W6thw"
      },
      "source": [
        "from sklearn.metrics.pairwise import cosine_similarity"
      ],
      "execution_count": null,
      "outputs": []
    },
    {
      "cell_type": "code",
      "metadata": {
        "colab": {
          "base_uri": "https://localhost:8080/",
          "height": 265
        },
        "id": "Gtz0DkvW7lcS",
        "outputId": "e50c2e61-09fa-4eb1-a880-792bea9ee60b"
      },
      "source": [
        "vec1 = [1,1]\n",
        "vec2 = [3,2.6]\n",
        "vec3 = [3,-4]\n",
        "V = np.array([vec1, vec2, vec3])\n",
        "origin = np.array([[0, 0, 0],[0, 0, 0]]) # origin point\n",
        "\n",
        "plt.quiver(*origin, V[:,0], V[:,1], color=['r','b','g'], scale=15)\n",
        "plt.show()"
      ],
      "execution_count": null,
      "outputs": [
        {
          "output_type": "display_data",
          "data": {
            "image/png": "[encoded data removed]",
            "text/plain": [
              "<Figure size 432x288 with 1 Axes>"
            ]
          },
          "metadata": {
            "tags": [],
            "needs_background": "light"
          }
        }
      ]
    },
    {
      "cell_type": "code",
      "metadata": {
        "colab": {
          "base_uri": "https://localhost:8080/"
        },
        "id": "jughjoI597hk",
        "outputId": "1a145eee-11ad-4af3-8550-394c2051029c"
      },
      "source": [
        "cosine_similarity([vec1], [vec2])[0][0]"
      ],
      "execution_count": null,
      "outputs": [
        {
          "output_type": "execute_result",
          "data": {
            "text/plain": [
              "0.9974586998307349"
            ]
          },
          "metadata": {
            "tags": []
          },
          "execution_count": 81
        }
      ]
    },
    {
      "cell_type": "code",
      "metadata": {
        "id": "cMyiEzzdATa1",
        "colab": {
          "base_uri": "https://localhost:8080/"
        },
        "outputId": "301a62df-6b43-450d-bfb6-3b1dcba1d485"
      },
      "source": [
        "cosine_similarity([vec1], [vec3])[0][0]"
      ],
      "execution_count": null,
      "outputs": [
        {
          "output_type": "execute_result",
          "data": {
            "text/plain": [
              "-0.14142135623730956"
            ]
          },
          "metadata": {
            "tags": []
          },
          "execution_count": 82
        }
      ]
    },
    {
      "cell_type": "code",
      "metadata": {
        "colab": {
          "base_uri": "https://localhost:8080/"
        },
        "id": "RFLn9cI3Snto",
        "outputId": "6f0bc2f3-c05d-49b8-94cb-7df635a94411"
      },
      "source": [
        "cosine_similarity([vec2], [vec3])[0][0]"
      ],
      "execution_count": null,
      "outputs": [
        {
          "output_type": "execute_result",
          "data": {
            "text/plain": [
              "-0.07053098106038307"
            ]
          },
          "metadata": {
            "tags": []
          },
          "execution_count": 83
        }
      ]
    },
    {
      "cell_type": "markdown",
      "metadata": {
        "id": "OshH_vFg86Iz"
      },
      "source": [
        "### Real Text vectors"
      ]
    },
    {
      "cell_type": "markdown",
      "metadata": {
        "id": "jIoFyWWCzcsp"
      },
      "source": [
        "Similar documents (having the same topic) are expected to be similar vectors - have a high cosine similarity"
      ]
    },
    {
      "cell_type": "markdown",
      "metadata": {
        "id": "PvFft1xuzwxY"
      },
      "source": [
        "These are 2 texts about `romance`"
      ]
    },
    {
      "cell_type": "code",
      "metadata": {
        "colab": {
          "base_uri": "https://localhost:8080/"
        },
        "id": "u61LdJ237Pdl",
        "outputId": "c6d83d54-24fb-4960-f140-407c8acb97a0"
      },
      "source": [
        "cosine_similarity(X[0], X[2])[0][0]"
      ],
      "execution_count": null,
      "outputs": [
        {
          "output_type": "execute_result",
          "data": {
            "text/plain": [
              "0.5163977794943223"
            ]
          },
          "metadata": {
            "tags": []
          },
          "execution_count": 84
        }
      ]
    },
    {
      "cell_type": "markdown",
      "metadata": {
        "id": "mY8Qz0oazzGF"
      },
      "source": [
        "and these about `government`"
      ]
    },
    {
      "cell_type": "code",
      "metadata": {
        "colab": {
          "base_uri": "https://localhost:8080/"
        },
        "id": "xjxZHq9g7MUw",
        "outputId": "306ef93c-76b2-4b22-8a4a-4c3ec28582df"
      },
      "source": [
        "cosine_similarity(X[7], X[8])[0][0]"
      ],
      "execution_count": null,
      "outputs": [
        {
          "output_type": "execute_result",
          "data": {
            "text/plain": [
              "0.1533929977694741"
            ]
          },
          "metadata": {
            "tags": []
          },
          "execution_count": 85
        }
      ]
    },
    {
      "cell_type": "markdown",
      "metadata": {
        "id": "MmxCQlsxzz1m"
      },
      "source": [
        "These are supposed to be different, because they come from different corpora"
      ]
    },
    {
      "cell_type": "code",
      "metadata": {
        "colab": {
          "base_uri": "https://localhost:8080/"
        },
        "id": "S5_c2JCl7DIg",
        "outputId": "04824de2-31a9-4ed2-a561-6df83e0a3f87"
      },
      "source": [
        "cosine_similarity(X[0], X[7])[0][0]"
      ],
      "execution_count": null,
      "outputs": [
        {
          "output_type": "execute_result",
          "data": {
            "text/plain": [
              "0.0"
            ]
          },
          "metadata": {
            "tags": []
          },
          "execution_count": 86
        }
      ]
    },
    {
      "cell_type": "markdown",
      "metadata": {
        "id": "N664quQq0XcF"
      },
      "source": [
        "Let's visualize cosine similarity with Seaborn"
      ]
    },
    {
      "cell_type": "code",
      "metadata": {
        "id": "-C7MOMUA7Swf",
        "colab": {
          "base_uri": "https://localhost:8080/",
          "height": 286
        },
        "outputId": "d5547a77-af02-4afd-be9c-d7cf29f1daf9"
      },
      "source": [
        "rows = []\n",
        "for i in range(len(X.toarray())):\n",
        "  row = []\n",
        "  for n in range(len(X.toarray())):\n",
        "    row.append(cosine_similarity(X[i], X[n])[0][0])\n",
        "  rows.append(row)\n",
        "\n",
        "cmap = sns.cm.rocket_r\n",
        "\n",
        "sns.heatmap(rows,\n",
        "                 annot=False,\n",
        "                 fmt=\".3f\",\n",
        "                 vmin=-0.05,\n",
        "                 cmap = cmap)"
      ],
      "execution_count": null,
      "outputs": [
        {
          "output_type": "execute_result",
          "data": {
            "text/plain": [
              "<matplotlib.axes._subplots.AxesSubplot at 0x7f29a8543350>"
            ]
          },
          "metadata": {
            "tags": []
          },
          "execution_count": 87
        },
        {
          "output_type": "display_data",
          "data": {
            "image/png": "[encoded data removed]",
            "text/plain": [
              "<Figure size 432x288 with 2 Axes>"
            ]
          },
          "metadata": {
            "tags": [],
            "needs_background": "light"
          }
        }
      ]
    }
  ]
}