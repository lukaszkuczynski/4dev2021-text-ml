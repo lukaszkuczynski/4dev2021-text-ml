{
  "nbformat": 4,
  "nbformat_minor": 0,
  "metadata": {
    "colab": {
      "name": "06. Document Classification",
      "provenance": [],
      "collapsed_sections": []
    },
    "kernelspec": {
      "name": "python3",
      "display_name": "Python 3"
    },
    "language_info": {
      "name": "python"
    }
  },
  "cells": [
    {
      "cell_type": "code",
      "metadata": {
        "colab": {
          "base_uri": "https://localhost:8080/"
        },
        "id": "x2mqUx3_koUJ",
        "outputId": "d9b95553-02ee-4a4d-c074-68fe84ba8487"
      },
      "source": [
        "import nltk\n",
        "nltk.download('brown')\n",
        "from nltk.corpus import brown\n",
        "import pandas as pd"
      ],
      "execution_count": null,
      "outputs": [
        {
          "output_type": "stream",
          "text": [
            "[nltk_data] Downloading package brown to /root/nltk_data...\n",
            "[nltk_data]   Unzipping corpora/brown.zip.\n"
          ],
          "name": "stdout"
        }
      ]
    },
    {
      "cell_type": "code",
      "metadata": {
        "colab": {
          "base_uri": "https://localhost:8080/",
          "height": 35
        },
        "id": "GlKvgpUxmGnW",
        "outputId": "b2de4cde-305c-4fef-bce1-6f6ddb94587d"
      },
      "source": [
        "' :: '.join(brown.categories())"
      ],
      "execution_count": null,
      "outputs": [
        {
          "output_type": "execute_result",
          "data": {
            "application/vnd.google.colaboratory.intrinsic+json": {
              "type": "string"
            },
            "text/plain": [
              "'adventure :: belles_lettres :: editorial :: fiction :: government :: hobbies :: humor :: learned :: lore :: mystery :: news :: religion :: reviews :: romance :: science_fiction'"
            ]
          },
          "metadata": {
            "tags": []
          },
          "execution_count": 2
        }
      ]
    },
    {
      "cell_type": "code",
      "metadata": {
        "colab": {
          "base_uri": "https://localhost:8080/",
          "height": 204
        },
        "id": "0C0ukM2HmJdt",
        "outputId": "99553098-7530-4989-fccb-a5cec14a2e3c"
      },
      "source": [
        "first_category = 'government'\n",
        "second_category = 'romance'\n",
        "\n",
        "first_corpus = [' '.join(words) for words in brown.sents(categories=[first_category])]\n",
        "second_corpus = [' '.join(words) for words in brown.sents(categories=[second_category])]\n",
        "df1 = pd.DataFrame()\n",
        "df1['text'] = first_corpus\n",
        "df1['category'] = first_category\n",
        "df2 = pd.DataFrame()\n",
        "df2['text'] = second_corpus\n",
        "df2['category'] = second_category\n",
        "df = pd.concat([df1, df2], ignore_index=True)\n",
        "df.head()"
      ],
      "execution_count": null,
      "outputs": [
        {
          "output_type": "execute_result",
          "data": {
            "text/html": [
              "<div>\n",
              "<style scoped>\n",
              "    .dataframe tbody tr th:only-of-type {\n",
              "        vertical-align: middle;\n",
              "    }\n",
              "\n",
              "    .dataframe tbody tr th {\n",
              "        vertical-align: top;\n",
              "    }\n",
              "\n",
              "    .dataframe thead th {\n",
              "        text-align: right;\n",
              "    }\n",
              "</style>\n",
              "<table border=\"1\" class=\"dataframe\">\n",
              "  <thead>\n",
              "    <tr style=\"text-align: right;\">\n",
              "      <th></th>\n",
              "      <th>text</th>\n",
              "      <th>category</th>\n",
              "    </tr>\n",
              "  </thead>\n",
              "  <tbody>\n",
              "    <tr>\n",
              "      <th>0</th>\n",
              "      <td>The Office of Business Economics ( OBE ) of th...</td>\n",
              "      <td>government</td>\n",
              "    </tr>\n",
              "    <tr>\n",
              "      <th>1</th>\n",
              "      <td>It develops and analyzes the national income ,...</td>\n",
              "      <td>government</td>\n",
              "    </tr>\n",
              "    <tr>\n",
              "      <th>2</th>\n",
              "      <td>Such measures are essential to its job of pres...</td>\n",
              "      <td>government</td>\n",
              "    </tr>\n",
              "    <tr>\n",
              "      <th>3</th>\n",
              "      <td>Contact</td>\n",
              "      <td>government</td>\n",
              "    </tr>\n",
              "    <tr>\n",
              "      <th>4</th>\n",
              "      <td>For further information contact Director , Off...</td>\n",
              "      <td>government</td>\n",
              "    </tr>\n",
              "  </tbody>\n",
              "</table>\n",
              "</div>"
            ],
            "text/plain": [
              "                                                text    category\n",
              "0  The Office of Business Economics ( OBE ) of th...  government\n",
              "1  It develops and analyzes the national income ,...  government\n",
              "2  Such measures are essential to its job of pres...  government\n",
              "3                                            Contact  government\n",
              "4  For further information contact Director , Off...  government"
            ]
          },
          "metadata": {
            "tags": []
          },
          "execution_count": 3
        }
      ]
    },
    {
      "cell_type": "code",
      "metadata": {
        "colab": {
          "base_uri": "https://localhost:8080/",
          "height": 35
        },
        "id": "jQEJpkANmezA",
        "outputId": "69fa71eb-457d-43c5-ba03-8dfa5f5c47ff"
      },
      "source": [
        "whole_corpus = df['text']\n",
        "y = df['category']\n",
        "whole_corpus[0]"
      ],
      "execution_count": null,
      "outputs": [
        {
          "output_type": "execute_result",
          "data": {
            "application/vnd.google.colaboratory.intrinsic+json": {
              "type": "string"
            },
            "text/plain": [
              "'The Office of Business Economics ( OBE ) of the U.S. Department of Commerce provides basic measures of the national economy and current analysis of short-run changes in the economic situation and business outlook .'"
            ]
          },
          "metadata": {
            "tags": []
          },
          "execution_count": 4
        }
      ]
    },
    {
      "cell_type": "code",
      "metadata": {
        "colab": {
          "base_uri": "https://localhost:8080/"
        },
        "id": "moaCjoGrmbXo",
        "outputId": "a99cd4c2-b886-42fc-d709-8323c299e6ab"
      },
      "source": [
        "from sklearn.feature_extraction.text import TfidfVectorizer\n",
        "\n",
        "vectorizer = TfidfVectorizer(stop_words='english')\n",
        "X = vectorizer.fit_transform(whole_corpus)\n",
        "X[0]"
      ],
      "execution_count": null,
      "outputs": [
        {
          "output_type": "execute_result",
          "data": {
            "text/plain": [
              "<1x11510 sparse matrix of type '<class 'numpy.float64'>'\n",
              "\twith 19 stored elements in Compressed Sparse Row format>"
            ]
          },
          "metadata": {
            "tags": []
          },
          "execution_count": 5
        }
      ]
    },
    {
      "cell_type": "markdown",
      "metadata": {
        "id": "FEoqYQUxnRPx"
      },
      "source": [
        "# ML process"
      ]
    },
    {
      "cell_type": "markdown",
      "metadata": {
        "id": "Po2E1xlAnTYq"
      },
      "source": [
        "## Split dataset"
      ]
    },
    {
      "cell_type": "code",
      "metadata": {
        "id": "ipFNvu0onQ21"
      },
      "source": [
        "from sklearn.model_selection import train_test_split\n",
        "X_train, X_test, y_train, y_test = train_test_split(X, y, test_size=0.3, random_state = 42)"
      ],
      "execution_count": null,
      "outputs": []
    },
    {
      "cell_type": "markdown",
      "metadata": {
        "id": "SKFPdiABnXGH"
      },
      "source": [
        "## Apply algorithm"
      ]
    },
    {
      "cell_type": "code",
      "metadata": {
        "id": "2A7FPi4tnCkh"
      },
      "source": [
        "from sklearn.naive_bayes import MultinomialNB\n",
        "\n",
        "bayes = MultinomialNB()\n",
        "\n",
        "bayes_fit = bayes.fit(X_train, y_train)\n",
        "\n",
        "y_pred = bayes_fit.predict(X_test)"
      ],
      "execution_count": null,
      "outputs": []
    },
    {
      "cell_type": "code",
      "metadata": {
        "colab": {
          "base_uri": "https://localhost:8080/"
        },
        "id": "uiH8vZOEoZUi",
        "outputId": "fa88351b-6567-4b8f-90c6-8f9e8dd4b704"
      },
      "source": [
        "y_test.value_counts()"
      ],
      "execution_count": null,
      "outputs": [
        {
          "output_type": "execute_result",
          "data": {
            "text/plain": [
              "romance       1301\n",
              "government     938\n",
              "Name: category, dtype: int64"
            ]
          },
          "metadata": {
            "tags": []
          },
          "execution_count": 8
        }
      ]
    },
    {
      "cell_type": "markdown",
      "metadata": {
        "id": "83DP-BFAn1JO"
      },
      "source": [
        "## Quality check"
      ]
    },
    {
      "cell_type": "code",
      "metadata": {
        "colab": {
          "base_uri": "https://localhost:8080/"
        },
        "id": "aBOE-AdSn0Ut",
        "outputId": "76a0ca3b-0eee-4279-b00e-5434670e74a2"
      },
      "source": [
        "from sklearn.metrics import classification_report, accuracy_score\n",
        "\n",
        "print('We achieved accuracy %s with Naive Bayes' % accuracy_score(y_pred, y_test))\n",
        "print(classification_report(y_test, y_pred, target_names=[first_category, second_category]))"
      ],
      "execution_count": null,
      "outputs": [
        {
          "output_type": "stream",
          "text": [
            "We achieved accuracy 0.9316659222867352 with Naive Bayes\n",
            "              precision    recall  f1-score   support\n",
            "\n",
            "  government       0.97      0.86      0.91       938\n",
            "     romance       0.91      0.98      0.94      1301\n",
            "\n",
            "    accuracy                           0.93      2239\n",
            "   macro avg       0.94      0.92      0.93      2239\n",
            "weighted avg       0.93      0.93      0.93      2239\n",
            "\n"
          ],
          "name": "stdout"
        }
      ]
    },
    {
      "cell_type": "code",
      "metadata": {
        "colab": {
          "base_uri": "https://localhost:8080/"
        },
        "id": "U9TdbM7EonSo",
        "outputId": "7c79cf1a-8232-46cc-d513-a6472f92476e"
      },
      "source": [
        "def predict_new_sentence(sentence):\n",
        "  X = vectorizer.transform([sentence])\n",
        "  return bayes_fit.predict_proba(X)\n",
        "\n",
        "gov_sample = \"mr president rules over country\"\n",
        "print(predict_new_sentence(gov_sample))"
      ],
      "execution_count": null,
      "outputs": [
        {
          "output_type": "stream",
          "text": [
            "[[0.74675201 0.25324799]]\n"
          ],
          "name": "stdout"
        }
      ]
    },
    {
      "cell_type": "code",
      "metadata": {
        "colab": {
          "base_uri": "https://localhost:8080/"
        },
        "id": "C_kdRlyIpUWy",
        "outputId": "acd15558-7443-4daa-92e4-2803ffd45864"
      },
      "source": [
        "romance_sample = \"You are my love!\"\n",
        "print(predict_new_sentence(romance_sample))"
      ],
      "execution_count": null,
      "outputs": [
        {
          "output_type": "stream",
          "text": [
            "[[0.06508427 0.93491573]]\n"
          ],
          "name": "stdout"
        }
      ]
    },
    {
      "cell_type": "code",
      "metadata": {
        "colab": {
          "base_uri": "https://localhost:8080/"
        },
        "id": "7tEfXuFba9MZ",
        "outputId": "0fc67500-58bc-4863-de61-2626dfe6fe0a"
      },
      "source": [
        "romance_sample = \"Two countries quarrel about a land between them\"\n",
        "print(predict_new_sentence(romance_sample))"
      ],
      "execution_count": null,
      "outputs": [
        {
          "output_type": "stream",
          "text": [
            "[[0.79606349 0.20393651]]\n"
          ],
          "name": "stdout"
        }
      ]
    },
    {
      "cell_type": "code",
      "metadata": {
        "colab": {
          "base_uri": "https://localhost:8080/"
        },
        "id": "EpEBW6XDC6yY",
        "outputId": "43a56223-b207-4bea-ae60-99a481f0b62f"
      },
      "source": [
        "sample = \"I am watching news about president\"\n",
        "print(predict_new_sentence(sample))"
      ],
      "execution_count": null,
      "outputs": [
        {
          "output_type": "stream",
          "text": [
            "[[0.31164133 0.68835867]]\n"
          ],
          "name": "stdout"
        }
      ]
    },
    {
      "cell_type": "markdown",
      "metadata": {
        "id": "j_qj-GPYa3jP"
      },
      "source": [
        ""
      ]
    }
  ]
}