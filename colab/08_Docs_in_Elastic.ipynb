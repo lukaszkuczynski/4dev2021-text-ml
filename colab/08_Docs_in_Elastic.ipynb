{
  "nbformat": 4,
  "nbformat_minor": 0,
  "metadata": {
    "colab": {
      "name": "08. Docs in Elastic",
      "provenance": [],
      "collapsed_sections": [],
      "toc_visible": true
    },
    "kernelspec": {
      "name": "python3",
      "display_name": "Python 3"
    },
    "language_info": {
      "name": "python"
    }
  },
  "cells": [
    {
      "cell_type": "code",
      "metadata": {
        "colab": {
          "base_uri": "https://localhost:8080/"
        },
        "id": "hnD2XJlgsJLa",
        "outputId": "4a4a7177-7185-4821-8b47-e73bbe53a9cf"
      },
      "source": [
        "!pip install elasticsearch\n",
        "import elasticsearch"
      ],
      "execution_count": null,
      "outputs": [
        {
          "output_type": "stream",
          "text": [
            "Collecting elasticsearch\n",
            "\u001b[?25l  Downloading https://files.pythonhosted.org/packages/0c/94/8af17aa11ea60dac63adbe51ca097263e4c4a164a44d7044632d21ee5d0c/elasticsearch-7.13.0-py2.py3-none-any.whl (354kB)\n",
            "\u001b[K     |████████████████████████████████| 358kB 3.9MB/s \n",
            "\u001b[?25hRequirement already satisfied: certifi in /usr/local/lib/python3.7/dist-packages (from elasticsearch) (2020.12.5)\n",
            "Requirement already satisfied: urllib3<2,>=1.21.1 in /usr/local/lib/python3.7/dist-packages (from elasticsearch) (1.24.3)\n",
            "Installing collected packages: elasticsearch\n",
            "Successfully installed elasticsearch-7.13.0\n"
          ],
          "name": "stdout"
        }
      ]
    },
    {
      "cell_type": "code",
      "metadata": {
        "id": "bIhgik8Ys6a-"
      },
      "source": [
        "import json\n",
        "with open(\"/content/drive/MyDrive/Colab Notebooks/4dev2021/bonsai.txt\", 'r') as fread:\n",
        "  credentials = json.loads(fread.read())\n",
        "\n",
        "host = credentials['url']"
      ],
      "execution_count": null,
      "outputs": []
    },
    {
      "cell_type": "code",
      "metadata": {
        "colab": {
          "base_uri": "https://localhost:8080/"
        },
        "id": "EwOxF0fispmg",
        "outputId": "aed49595-6626-4976-a15e-628102c78d29"
      },
      "source": [
        "es = elasticsearch.Elasticsearch(hosts=[host])\n",
        "es.info()"
      ],
      "execution_count": null,
      "outputs": [
        {
          "output_type": "execute_result",
          "data": {
            "text/plain": [
              "{'cluster_name': 'elasticsearch',\n",
              " 'cluster_uuid': 'So-fi0HcRimV2kF1CxTkdA',\n",
              " 'name': 'ip-172-31-50-203',\n",
              " 'tagline': 'You Know, for Search',\n",
              " 'version': {'build_date': '2021-01-13T00:42:12.435326Z',\n",
              "  'build_flavor': 'oss',\n",
              "  'build_hash': '747e1cc71def077253878a59143c1f785afa92b9',\n",
              "  'build_snapshot': False,\n",
              "  'build_type': 'tar',\n",
              "  'lucene_version': '8.7.0',\n",
              "  'minimum_index_compatibility_version': '6.0.0-beta1',\n",
              "  'minimum_wire_compatibility_version': '6.8.0',\n",
              "  'number': '7.10.2'}}"
            ]
          },
          "metadata": {
            "tags": []
          },
          "execution_count": 3
        }
      ]
    },
    {
      "cell_type": "code",
      "metadata": {
        "colab": {
          "base_uri": "https://localhost:8080/"
        },
        "id": "1pkncbcPuqlq",
        "outputId": "a4907357-f1a8-4b38-e8cf-e644c1523092"
      },
      "source": [
        "es.search(body={}, index='moviesimdb', size=1, sort='@timestamp')"
      ],
      "execution_count": null,
      "outputs": [
        {
          "output_type": "execute_result",
          "data": {
            "text/plain": [
              "{'_shards': {'failed': 0, 'skipped': 0, 'successful': 1, 'total': 1},\n",
              " 'hits': {'hits': [{'_id': 'hUzQX3kBs-XAwMZXvoo2',\n",
              "    '_index': 'moviesimdb',\n",
              "    '_score': None,\n",
              "    '_source': {'@timestamp': '2021-05-12T09:03:03.518Z',\n",
              "     '@version': '1',\n",
              "     'actors': 'Blanche Bayliss, William Courtenay, Chauncey Depew',\n",
              "     'avg_vote': '5.9',\n",
              "     'budget': None,\n",
              "     'country': 'USA',\n",
              "     'description': 'The adventures of a female reporter in the 1890s.',\n",
              "     'director': 'Alexander Black',\n",
              "     'duration': '45',\n",
              "     'genre': 'Romance',\n",
              "     'host': 'luk-ThinkPad-T490s',\n",
              "     'language': 'None',\n",
              "     'message': 'tt0000009,Miss Jerry,Miss Jerry,1894,1894-10-09,Romance,45,USA,None,Alexander Black,Alexander Black,Alexander Black Photoplays,\"Blanche Bayliss, William Courtenay, Chauncey Depew\",The adventures of a female reporter in the 1890s.,5.9,154,,,,,1.0,2.0\\r',\n",
              "     'path': '/data/imdb/movies_smaller.csv',\n",
              "     'production_company': 'Alexander Black Photoplays',\n",
              "     'reviews_from_critics': '2.0',\n",
              "     'reviews_from_users': '1.0',\n",
              "     'title': 'Miss Jerry',\n",
              "     'votes': '154',\n",
              "     'writer': 'Alexander Black',\n",
              "     'year': '1894'},\n",
              "    '_type': '_doc',\n",
              "    'sort': [1620810183518]}],\n",
              "  'max_score': None,\n",
              "  'total': {'relation': 'eq', 'value': 9999}},\n",
              " 'timed_out': False,\n",
              " 'took': 107}"
            ]
          },
          "metadata": {
            "tags": []
          },
          "execution_count": 4
        }
      ]
    },
    {
      "cell_type": "code",
      "metadata": {
        "id": "yyW4Y80mtJf1",
        "colab": {
          "base_uri": "https://localhost:8080/"
        },
        "outputId": "07515a34-2db0-4070-b952-60c4cd646f9e"
      },
      "source": [
        "index = 'moviesimdb'\n",
        "\n",
        "search_body = {\n",
        "    \"query\":{\n",
        "      \"match\": {\n",
        "          \"description\": \"alien\"\n",
        "      }\n",
        "    }\n",
        "}\n",
        "\n",
        "es.search(body=search_body, index=index, size=1)"
      ],
      "execution_count": null,
      "outputs": [
        {
          "output_type": "execute_result",
          "data": {
            "text/plain": [
              "{'_shards': {'failed': 0, 'skipped': 0, 'successful': 1, 'total': 1},\n",
              " 'hits': {'hits': [{'_id': 'i0zQX3kBs-XAwMZX9Y15',\n",
              "    '_index': 'moviesimdb',\n",
              "    '_score': 8.422447,\n",
              "    '_source': {'@timestamp': '2021-05-12T09:03:06.783Z',\n",
              "     '@version': '1',\n",
              "     'actors': 'Anna May Wong, Charles Bickford, Buster Crabbe, Cecil Cunningham, J. Carrol Naish, Anthony Quinn, John Patterson, Evelyn Brent, Philip Ahn, Fred Kohler, Guy Bates Post, Virginia Dabney',\n",
              "     'avg_vote': '6.7',\n",
              "     'budget': None,\n",
              "     'country': 'USA',\n",
              "     'description': 'Chinese-American woman tries to expose illegal alien smuggling ring.',\n",
              "     'director': 'Robert Florey',\n",
              "     'duration': '62',\n",
              "     'genre': 'Crime, Drama, Romance',\n",
              "     'host': 'luk-ThinkPad-T490s',\n",
              "     'language': 'English, Cantonese',\n",
              "     'message': 'tt0028770,La figlia di Shanghai,Daughter of Shanghai,1937,1937-12-17,\"Crime, Drama, Romance\",62,USA,\"English, Cantonese\",Robert Florey,\"Gladys Unger, Garnett Weston\",Paramount Pictures,\"Anna May Wong, Charles Bickford, Buster Crabbe, Cecil Cunningham, J. Carrol Naish, Anthony Quinn, John Patterson, Evelyn Brent, Philip Ahn, Fred Kohler, Guy Bates Post, Virginia Dabney\",Chinese-American woman tries to expose illegal alien smuggling ring.,6.7,311,,,,,10.0,3.0\\r',\n",
              "     'path': '/data/imdb/movies_smaller.csv',\n",
              "     'production_company': 'Paramount Pictures',\n",
              "     'reviews_from_critics': '3.0',\n",
              "     'reviews_from_users': '10.0',\n",
              "     'title': 'La figlia di Shanghai',\n",
              "     'votes': '311',\n",
              "     'writer': 'Gladys Unger, Garnett Weston',\n",
              "     'year': '1937'},\n",
              "    '_type': '_doc'}],\n",
              "  'max_score': 8.422447,\n",
              "  'total': {'relation': 'eq', 'value': 18}},\n",
              " 'timed_out': False,\n",
              " 'took': 30}"
            ]
          },
          "metadata": {
            "tags": []
          },
          "execution_count": 5
        }
      ]
    },
    {
      "cell_type": "code",
      "metadata": {
        "id": "E2khv-t2vDMn"
      },
      "source": [
        "import pprint\n",
        "\n",
        "pp = pprint.PrettyPrinter(indent=4)\n",
        "\n",
        "def pprint_hits(hits):\n",
        "  pp.pprint(list(f\"{hit['_score']} [{hit['_source']['title']}] : {hit['_source']['description']} \" for hit in hits['hits']['hits']))\n",
        "\n",
        "# pprint_hits(es_hits)"
      ],
      "execution_count": null,
      "outputs": []
    },
    {
      "cell_type": "code",
      "metadata": {
        "colab": {
          "base_uri": "https://localhost:8080/"
        },
        "id": "9YtRivz9upGw",
        "outputId": "862f8243-1192-449b-8dfe-d67e7f757857"
      },
      "source": [
        "index = 'moviesimdb2'\n",
        "\n",
        "search_body = {\n",
        "    \"query\":{\n",
        "      \"match\": {\n",
        "          \"description\": \"alien\"\n",
        "      }\n",
        "    }\n",
        "}\n",
        "\n",
        "es_hits = es.search(body=search_body, index=index)\n",
        "pprint_hits(es_hits)"
      ],
      "execution_count": null,
      "outputs": [
        {
          "output_type": "stream",
          "text": [
            "[   '7.973715 [Plan 9 from Outer Space] : Evil aliens attack Earth and set '\n",
            "    'their terrible \"Plan 9\" into action. As the aliens resurrect the dead of '\n",
            "    'the Earth, the lives of the living are in danger. ',\n",
            "    \"7.2686925 [Invasori dall'altro mondo] : A teenage couple accidentally \"\n",
            "    'awakens an alien after hitting it with their car. ',\n",
            "    '7.2686925 [Fluido mortale] : An alien lifeform consumes everything in its '\n",
            "    'path as it grows and grows. ',\n",
            "    '7.2686925 [I figli dello spazio] : An alien intelligence aborts the '\n",
            "    'launching of a rocket with the help of a bunch of children. ',\n",
            "    '7.2686925 [Cittadino dello spazio] : Aliens come to Earth seeking '\n",
            "    'scientists to help them in their war. ',\n",
            "    '7.0623755 [La figlia di Shanghai] : Chinese-American woman tries to '\n",
            "    'expose illegal alien smuggling ring. ',\n",
            "    '6.8674474 [Algol - Tragödie der Macht] : An alien from the planet Algol '\n",
            "    'gives a man a device that gives him superpowers. ',\n",
            "    '6.8674474 [Night of the Blood Beast] : An astronaut is killed on reentry '\n",
            "    'to Earth, but his body is seeded with rapidly gestating aliens. ',\n",
            "    '6.68299 [Guerra tra i pianeti] : An atomic scientist claims he was '\n",
            "    'abducted by aliens after being injured in a plane crash. ',\n",
            "    '6.508184 [Invasione degli ultracorpi] : A small-town doctor learns that '\n",
            "    'the population of his community is being replaced by emotionless alien '\n",
            "    'duplicates. ']\n"
          ],
          "name": "stdout"
        }
      ]
    },
    {
      "cell_type": "code",
      "metadata": {
        "colab": {
          "base_uri": "https://localhost:8080/"
        },
        "id": "2WXvl7whxiSK",
        "outputId": "61d17e0a-ebda-4b9a-8e96-5fc11f9ac8a3"
      },
      "source": [
        "index = 'moviesimdb'\n",
        "\n",
        "search_body = {\n",
        "    \"query\":{\n",
        "      \"match\": {\n",
        "          \"description\": \"alien\"\n",
        "      }\n",
        "    }\n",
        "}\n",
        "\n",
        "es_hits = es.search(body=search_body, index=index)\n",
        "pprint_hits(es_hits)"
      ],
      "execution_count": null,
      "outputs": [
        {
          "output_type": "stream",
          "text": [
            "[   '8.422447 [La figlia di Shanghai] : Chinese-American woman tries to expose '\n",
            "    'illegal alien smuggling ring. ',\n",
            "    \"7.9275656 [Invasori dall'altro mondo] : A teenage couple accidentally \"\n",
            "    'awakens an alien after hitting it with their car. ',\n",
            "    '7.9275656 [Fluido mortale] : An alien lifeform consumes everything in its '\n",
            "    'path as it grows and grows. ',\n",
            "    '7.628736 [Algol - Tragödie der Macht] : An alien from the planet Algol '\n",
            "    'gives a man a device that gives him superpowers. ',\n",
            "    '7.487612 [The Cosmic Man] : A spherical UFO proves to contain one alien '\n",
            "    'visitor. How to deal with him? Investigators disagree... ',\n",
            "    '7.3516154 [I figli dello spazio] : An alien intelligence aborts the '\n",
            "    'launching of a rocket with the help of a bunch of children. ',\n",
            "    \"7.2204704 [La 'cosa' da un altro mondo] : Scientists and American Air \"\n",
            "    'Force officials fend off a bloodthirsty alien organism while at a remote '\n",
            "    'arctic outpost. ',\n",
            "    '7.2204704 [Invasione degli ultracorpi] : A small-town doctor learns that '\n",
            "    'the population of his community is being replaced by emotionless alien '\n",
            "    'duplicates. ',\n",
            "    '6.629185 [Ultimatum alla Terra] : An alien lands and tells the people of '\n",
            "    'Earth that they must live peacefully or be destroyed as a danger to other '\n",
            "    'planets. ',\n",
            "    '6.418926 [Lei, il mostro] : A gang of crooks has kidnapped a rich heiress '\n",
            "    'come up against a beautiful, but lethal alien who has crash-landed her '\n",
            "    'spaceship on Earth. ']\n"
          ],
          "name": "stdout"
        }
      ]
    }
  ]
}